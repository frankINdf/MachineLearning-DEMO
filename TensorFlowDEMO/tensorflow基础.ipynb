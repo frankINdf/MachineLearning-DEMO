{
 "cells": [
  {
   "cell_type": "code",
   "execution_count": 3,
   "metadata": {},
   "outputs": [
    {
     "name": "stdout",
     "output_type": "stream",
     "text": [
      "a=2, b=3\n",
      "加法操作a+b: 5\n",
      "乘法操作a*b: 6\n"
     ]
    }
   ],
   "source": [
    "'''\n",
    "tensorflow的基本操作\n",
    "'''\n",
    "from __future__ import print_function\n",
    "\n",
    "import tensorflow as tf\n",
    "a = tf.constant(2)\n",
    "b = tf.constant(3)\n",
    "\n",
    "# 运行计算图.\n",
    "with tf.Session() as sess:\n",
    "    print(\"a=2, b=3\")\n",
    "    print(\"加法操作a+b: %i\" % sess.run(a+b))\n",
    "    print(\"乘法操作a*b: %i\" % sess.run(a*b))\n"
   ]
  },
  {
   "cell_type": "code",
   "execution_count": 4,
   "metadata": {},
   "outputs": [
    {
     "name": "stdout",
     "output_type": "stream",
     "text": [
      "定义变量的加法操作: 5\n",
      "定义变量的乘法操作: 6\n"
     ]
    }
   ],
   "source": [
    "#定义变量，这里不用赋值，后面会进行赋值\n",
    "a = tf.placeholder(tf.int16)\n",
    "b = tf.placeholder(tf.int16)\n",
    "\n",
    "# 定义操作\n",
    "add = tf.add(a, b)\n",
    "mul = tf.multiply(a, b)\n",
    "\n",
    "# 进入会话\n",
    "with tf.Session() as sess:\n",
    "    # 进行计算\n",
    "    print(\"变量的加法操作: %i\" % sess.run(add, feed_dict={a: 2, b: 3}))\n",
    "    print(\"变量的乘法操作: %i\" % sess.run(mul, feed_dict={a: 2, b: 3}))"
   ]
  },
  {
   "cell_type": "code",
   "execution_count": 6,
   "metadata": {},
   "outputs": [
    {
     "name": "stdout",
     "output_type": "stream",
     "text": [
      "[[ 10.]]\n"
     ]
    }
   ],
   "source": [
    "# 定义一个1x2的常量矩阵\n",
    "matrix1 = tf.constant([[3., 4.]])\n",
    "\n",
    "# 定义一个2x1的常量矩阵\n",
    "matrix2 = tf.constant([[2.],[1.]])\n",
    "\n",
    "# 进行矩阵相乘\n",
    "product = tf.matmul(matrix1, matrix2)\n",
    "\n",
    "# 进入计算图\n",
    "with tf.Session() as sess:\n",
    "    #3*2+4*1\n",
    "    result = sess.run(product)\n",
    "    print(result)\n"
   ]
  }
 ],
 "metadata": {
  "kernelspec": {
   "display_name": "Python 3",
   "language": "python",
   "name": "python3"
  },
  "language_info": {
   "codemirror_mode": {
    "name": "ipython",
    "version": 3
   },
   "file_extension": ".py",
   "mimetype": "text/x-python",
   "name": "python",
   "nbconvert_exporter": "python",
   "pygments_lexer": "ipython3",
   "version": "3.6.3"
  }
 },
 "nbformat": 4,
 "nbformat_minor": 2
}
