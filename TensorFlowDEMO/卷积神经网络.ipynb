{
 "cells": [
  {
   "cell_type": "code",
   "execution_count": 1,
   "metadata": {},
   "outputs": [
    {
     "name": "stdout",
     "output_type": "stream",
     "text": [
      "Extracting /tmp/data/train-images-idx3-ubyte.gz\n",
      "Extracting /tmp/data/train-labels-idx1-ubyte.gz\n",
      "Extracting /tmp/data/t10k-images-idx3-ubyte.gz\n",
      "Extracting /tmp/data/t10k-labels-idx1-ubyte.gz\n"
     ]
    }
   ],
   "source": [
    "from __future__ import division, print_function, absolute_import\n",
    "\n",
    "# 载入MNIST数据集\n",
    "from tensorflow.examples.tutorials.mnist import input_data\n",
    "#读取数据集，\n",
    "mnist = input_data.read_data_sets(\"/tmp/data/\", one_hot=False)\n",
    "\n",
    "import tensorflow as tf\n",
    "\n",
    "# 设置训练参数\n",
    "learning_rate = 0.001 #学习率\n",
    "num_steps = 200 #训练步数\n",
    "batch_size = 128 #每次训练的数据集大小\n",
    "\n",
    "# 神经网络的参数\n",
    "num_input = 784 # MNIST data input (img shape: 28*28)\n",
    "num_classes = 10 # MNIST 数据集共有10个数字(0-9 )\n",
    "dropout = 0.25 # 设置Dropout率\n",
    "\n",
    "\n",
    "# 构建神经网络\n",
    "def conv_net(x_dict, n_classes, dropout, reuse, is_training):\n",
    "    # 命名空间\n",
    "    with tf.variable_scope('ConvNet', reuse=reuse):\n",
    "        # TF Estimator input is a dict, in case of multiple inputs\n",
    "        x = x_dict['images']\n",
    "        # 输入的TENSOR 4-D: [Batch Size, Height, Width, Channel]\n",
    "        x = tf.reshape(x, shape=[-1, 28, 28, 1])\n",
    "        # 定义卷基层1，激活函数为RELU\n",
    "        # conv2d参数(inputs,filters,kernel_size,strides=(1, 1))\n",
    "        #输入数据28*28，输出32通道，卷积核大小为5\n",
    "        conv1 = tf.layers.conv2d(x, 32, 5, activation=tf.nn.relu)\n",
    "        # 池化层,滑动尺寸为2*2\n",
    "        conv1 = tf.layers.max_pooling2d(conv1, 2, 2)\n",
    "\n",
    "        # 卷基层2，输出64层，卷积核3\n",
    "        conv2 = tf.layers.conv2d(conv1, 64, 3, activation=tf.nn.relu)\n",
    "        # 池化层，互动尺寸2*2\n",
    "        conv2 = tf.layers.max_pooling2d(conv2, 2, 2)\n",
    "        # 将池化层展开为1为的张量\n",
    "        fc1 = tf.contrib.layers.flatten(conv2)\n",
    "        # dense全连接神经网络\n",
    "        fc1 = tf.layers.dense(fc1, 1024)\n",
    "        # 设置的dropout，只在训练的时候设置\n",
    "        fc1 = tf.layers.dropout(fc1, rate=dropout, training=is_training)\n",
    "\n",
    "        # 输出\n",
    "        out = tf.layers.dense(fc1, n_classes)\n",
    "\n",
    "    return out"
   ]
  },
  {
   "cell_type": "code",
   "execution_count": 2,
   "metadata": {
    "collapsed": true
   },
   "outputs": [],
   "source": [
    "# \n",
    "def model_fn(features, labels, mode):\n",
    "    # 正向传播结果\n",
    "    logits_train = conv_net(features, num_classes, dropout, reuse=False,\n",
    "                            is_training=True)\n",
    "    logits_test = conv_net(features, num_classes, dropout, reuse=True,\n",
    "                           is_training=False)\n",
    "\n",
    "    # 预测的分类y_predict\n",
    "    pred_classes = tf.argmax(logits_test, axis=1)\n",
    "    #定义softmax\n",
    "    pred_probas = tf.nn.softmax(logits_test)\n",
    "\n",
    "    # If prediction mode, early return\n",
    "    if mode == tf.estimator.ModeKeys.PREDICT:\n",
    "        return tf.estimator.EstimatorSpec(mode, predictions=pred_classes)\n",
    "\n",
    "        # 损失函数\n",
    "    loss_op = tf.reduce_mean(tf.nn.sparse_softmax_cross_entropy_with_logits(\n",
    "        logits=logits_train, labels=tf.cast(labels, dtype=tf.int32)))\n",
    "    optimizer = tf.train.AdamOptimizer(learning_rate=learning_rate)\n",
    "    train_op = optimizer.minimize(loss_op,\n",
    "                                  global_step=tf.train.get_global_step())\n",
    "\n",
    "    # 计算准确度\n",
    "    acc_op = tf.metrics.accuracy(labels=labels, predictions=pred_classes)\n",
    "\n",
    "    # TF Estimators requires to return a EstimatorSpec, that specify\n",
    "    # the different ops for training, evaluating, ...\n",
    "    estim_specs = tf.estimator.EstimatorSpec(\n",
    "        mode=mode,\n",
    "        predictions=pred_classes,\n",
    "        loss=loss_op,\n",
    "        train_op=train_op,\n",
    "        eval_metric_ops={'accuracy': acc_op})\n",
    "\n",
    "    return estim_specs"
   ]
  },
  {
   "cell_type": "code",
   "execution_count": 3,
   "metadata": {},
   "outputs": [
    {
     "name": "stdout",
     "output_type": "stream",
     "text": [
      "INFO:tensorflow:Using default config.\n",
      "WARNING:tensorflow:Using temporary folder as model directory: C:\\Users\\ADMINI~1\\AppData\\Local\\Temp\\tmppbw_os9d\n",
      "INFO:tensorflow:Using config: {'_model_dir': 'C:\\\\Users\\\\ADMINI~1\\\\AppData\\\\Local\\\\Temp\\\\tmppbw_os9d', '_tf_random_seed': 1, '_save_summary_steps': 100, '_save_checkpoints_secs': 600, '_save_checkpoints_steps': None, '_session_config': None, '_keep_checkpoint_max': 5, '_keep_checkpoint_every_n_hours': 10000}\n",
      "INFO:tensorflow:Create CheckpointSaverHook.\n",
      "INFO:tensorflow:Saving checkpoints for 1 into C:\\Users\\ADMINI~1\\AppData\\Local\\Temp\\tmppbw_os9d\\model.ckpt.\n",
      "INFO:tensorflow:loss = 2.32216, step = 1\n",
      "INFO:tensorflow:global_step/sec: 4.93628\n",
      "INFO:tensorflow:loss = 0.181068, step = 101 (20.241 sec)\n",
      "INFO:tensorflow:Saving checkpoints for 200 into C:\\Users\\ADMINI~1\\AppData\\Local\\Temp\\tmppbw_os9d\\model.ckpt.\n",
      "INFO:tensorflow:Loss for final step: 0.130846.\n",
      "INFO:tensorflow:Starting evaluation at 2018-05-04-14:55:54\n",
      "INFO:tensorflow:Restoring parameters from C:\\Users\\ADMINI~1\\AppData\\Local\\Temp\\tmppbw_os9d\\model.ckpt-200\n",
      "INFO:tensorflow:Finished evaluation at 2018-05-04-14:56:00\n",
      "INFO:tensorflow:Saving dict for global step 200: accuracy = 0.9741, global_step = 200, loss = 0.0798607\n",
      "Testing Accuracy: 0.9741\n"
     ]
    }
   ],
   "source": [
    "\n",
    "# Build the Estimator\n",
    "model = tf.estimator.Estimator(model_fn)\n",
    "\n",
    "# Define the input function for training\n",
    "input_fn = tf.estimator.inputs.numpy_input_fn(\n",
    "    x={'images': mnist.train.images}, y=mnist.train.labels,\n",
    "    batch_size=batch_size, num_epochs=None, shuffle=True)\n",
    "# 开始训练\n",
    "model.train(input_fn, steps=num_steps)\n",
    "\n",
    "# Define the input function for evaluating\n",
    "input_fn = tf.estimator.inputs.numpy_input_fn(\n",
    "    x={'images': mnist.test.images}, y=mnist.test.labels,\n",
    "    batch_size=batch_size, shuffle=False)\n",
    "e = model.evaluate(input_fn)\n",
    "\n",
    "print(\"Testing Accuracy:\", e['accuracy'])"
   ]
  },
  {
   "cell_type": "code",
   "execution_count": null,
   "metadata": {
    "collapsed": true
   },
   "outputs": [],
   "source": []
  }
 ],
 "metadata": {
  "kernelspec": {
   "display_name": "Python 3",
   "language": "python",
   "name": "python3"
  },
  "language_info": {
   "codemirror_mode": {
    "name": "ipython",
    "version": 3
   },
   "file_extension": ".py",
   "mimetype": "text/x-python",
   "name": "python",
   "nbconvert_exporter": "python",
   "pygments_lexer": "ipython3",
   "version": "3.6.3"
  }
 },
 "nbformat": 4,
 "nbformat_minor": 2
}
