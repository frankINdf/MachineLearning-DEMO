{
 "cells": [
  {
   "cell_type": "code",
   "execution_count": 24,
   "metadata": {},
   "outputs": [],
   "source": [
    "import os\n",
    "import glob\n",
    "import numpy as np\n",
    "import pandas as pd\n",
    "from keras.applications.resnet50 import ResNet50,preprocess_input, decode_predictions\n",
    "from keras.preprocessing import image\n",
    "SEED =100;\n",
    "path = r'E:\\machine learn data\\train'\n",
    "f = glob.glob(r'E:\\machine learn data\\train\\*.jpg') \n",
    "file = np.array(f)\n",
    "np.random.seed(seed =SEED)\n",
    "rnd = np.random.random(file.shape[0])\n",
    "train_idx = rnd <0.8\n",
    "vaild_idx = rnd>=0.8\n",
    "x_train = file[train_idx]\n",
    "y_train = x_train\n",
    "def read_img(img_id,size):\n",
    "    img = image.load_img(img_id,target_size = size)\n",
    "    img = image.img_to_array(img)\n",
    "    return img\n",
    "\n",
    "#img = read_img(x_train[0],(224, 224))\n",
    "#for i, (img_id, label) in enumerate(x_train.path,x_train.label):\n",
    " #   print(0)\n",
    "  #  break"
   ]
  },
  {
   "cell_type": "code",
   "execution_count": 2,
   "metadata": {
    "collapsed": true
   },
   "outputs": [],
   "source": [
    "model = ResNet50(weights='imagenet')\n"
   ]
  },
  {
   "cell_type": "code",
   "execution_count": 4,
   "metadata": {},
   "outputs": [],
   "source": [
    "p1=x_train[0]"
   ]
  },
  {
   "cell_type": "code",
   "execution_count": 14,
   "metadata": {},
   "outputs": [],
   "source": [
    "img=read_img(p1,(224,224))"
   ]
  },
  {
   "cell_type": "code",
   "execution_count": 16,
   "metadata": {},
   "outputs": [
    {
     "data": {
      "image/png": "[encoded data removed]",
      "text/plain": [
       "<matplotlib.figure.Figure at 0x1dcfa0b8>"
      ]
     },
     "metadata": {},
     "output_type": "display_data"
    }
   ],
   "source": [
    "import matplotlib.pyplot as plt\n",
    "from mpl_toolkits.axes_grid1 import ImageGrid\n",
    "fig = plt.figure(1, figsize=(1, 1))\n",
    "grid = ImageGrid(fig, 111, nrows_ncols=(1, 1), axes_pad=0.05)\n",
    "ax = grid[0]\n",
    "ax.imshow(img / 255.)\n",
    "plt.show()"
   ]
  },
  {
   "cell_type": "code",
   "execution_count": 19,
   "metadata": {},
   "outputs": [],
   "source": [
    "x = preprocess_input(np.expand_dims(img.copy(), axis=0))\n",
    "preds = model.predict(x)"
   ]
  },
  {
   "cell_type": "code",
   "execution_count": 33,
   "metadata": {},
   "outputs": [
    {
     "data": {
      "text/plain": [
       "([[('n02093991', 'Irish_terrier', 0.33192718),\n",
       "   ('n02112706', 'Brabancon_griffon', 0.073661029),\n",
       "   ('n02087394', 'Rhodesian_ridgeback', 0.065007366),\n",
       "   ('n02085620', 'Chihuahua', 0.048702944),\n",
       "   ('n02090379', 'redbone', 0.047810297),\n",
       "   ('n04404412', 'television', 0.03207558),\n",
       "   ('n02094258', 'Norwich_terrier', 0.02827649),\n",
       "   ('n02094114', 'Norfolk_terrier', 0.026311232),\n",
       "   ('n02112018', 'Pomeranian', 0.016364302),\n",
       "   ('n02094433', 'Yorkshire_terrier', 0.014641425)]],\n",
       " ('n02087394', 'Rhodesian_ridgeback', 0.065007366))"
      ]
     },
     "execution_count": 33,
     "metadata": {},
     "output_type": "execute_result"
    }
   ],
   "source": [
    "imagenet_class_name = decode_predictions(preds, top=10)\n",
    "#_, imagenet_class_name, prob = decode_predictions(preds, top=10)[0]\n",
    "imagenet_class_name, prob \n",
    "#ax.text(10, 180, 'ResNet50: %s (%.2f)' % (imagenet_class_name , prob), color='w', backgroundcolor='k', alpha=0.8)"
   ]
  },
  {
   "cell_type": "code",
   "execution_count": 34,
   "metadata": {
    "collapsed": true
   },
   "outputs": [],
   "source": [
    "model = ResNet50(weights='imagenet',include_top=False)\n"
   ]
  },
  {
   "cell_type": "code",
   "execution_count": 37,
   "metadata": {},
   "outputs": [
    {
     "data": {
      "image/png": "[encoded data removed]",
      "text/plain": [
       "<matplotlib.figure.Figure at 0x30bf5898>"
      ]
     },
     "metadata": {},
     "output_type": "display_data"
    }
   ],
   "source": [
    "model = ResNet50(weights='imagenet')\n",
    "p2=x_train[2]\n",
    "img=read_img(p2,(224,224))\n",
    "import matplotlib.pyplot as plt\n",
    "from mpl_toolkits.axes_grid1 import ImageGrid\n",
    "fig = plt.figure(1, figsize=(1, 1))\n",
    "grid = ImageGrid(fig, 111, nrows_ncols=(1, 1), axes_pad=0.05)\n",
    "ax = grid[0]\n",
    "ax.imshow(img / 255.)\n",
    "plt.show()\n",
    "x = preprocess_input(np.expand_dims(img.copy(), axis=0))\n",
    "preds = model.predict(x)\n",
    "imagenet_class_name = decode_predictions(preds, top=10)"
   ]
  },
  {
   "cell_type": "code",
   "execution_count": 38,
   "metadata": {},
   "outputs": [
    {
     "data": {
      "text/plain": [
       "[[('n02123045', 'tabby', 0.55444735),\n",
       "  ('n02123159', 'tiger_cat', 0.26943558),\n",
       "  ('n02124075', 'Egyptian_cat', 0.058926377),\n",
       "  ('n02127052', 'lynx', 0.035152406),\n",
       "  ('n02123394', 'Persian_cat', 0.030398756),\n",
       "  ('n03958227', 'plastic_bag', 0.0053387638),\n",
       "  ('n03325584', 'feather_boa', 0.0041822256),\n",
       "  ('n04235860', 'sleeping_bag', 0.0031403357),\n",
       "  ('n03942813', 'ping-pong_ball', 0.0023379296),\n",
       "  ('n03223299', 'doormat', 0.0013624446)]]"
      ]
     },
     "execution_count": 38,
     "metadata": {},
     "output_type": "execute_result"
    }
   ],
   "source": [
    "imagenet_class_name\n"
   ]
  },
  {
   "cell_type": "code",
   "execution_count": null,
   "metadata": {
    "collapsed": true
   },
   "outputs": [],
   "source": []
  }
 ],
 "metadata": {
  "kernelspec": {
   "display_name": "Python 3",
   "language": "python",
   "name": "python3"
  },
  "language_info": {
   "codemirror_mode": {
    "name": "ipython",
    "version": 3
   },
   "file_extension": ".py",
   "mimetype": "text/x-python",
   "name": "python",
   "nbconvert_exporter": "python",
   "pygments_lexer": "ipython3",
   "version": "3.6.3"
  }
 },
 "nbformat": 4,
 "nbformat_minor": 2
}
