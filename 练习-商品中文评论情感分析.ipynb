{
 "cells": [
  {
   "cell_type": "code",
   "execution_count": 2,
   "metadata": {},
   "outputs": [
    {
     "name": "stderr",
     "output_type": "stream",
     "text": [
      "d:\\ProgramData\\Anaconda3\\lib\\site-packages\\sklearn\\cross_validation.py:41: DeprecationWarning: This module was deprecated in version 0.18 in favor of the model_selection module into which all the refactored classes and functions are moved. Also note that the interface of the new CV iterators are different from that of this module. This module will be removed in 0.20.\n",
      "  \"This module will be removed in 0.20.\", DeprecationWarning)\n",
      "d:\\ProgramData\\Anaconda3\\lib\\site-packages\\gensim\\utils.py:865: UserWarning: detected Windows; aliasing chunkize to chunkize_serial\n",
      "  warnings.warn(\"detected Windows; aliasing chunkize to chunkize_serial\")\n"
     ]
    }
   ],
   "source": [
    "from sklearn.cross_validation import train_test_split\n",
    "from gensim.models.word2vec import Word2Vec\n",
    "import numpy as np\n",
    "import pandas as pd\n",
    "import jieba\n",
    "from sklearn.externals import joblib\n",
    "from sklearn.svm import SVC\n",
    "import sys  \n"
   ]
  },
  {
   "cell_type": "code",
   "execution_count": 57,
   "metadata": {},
   "outputs": [
    {
     "data": {
      "text/html": [
       "<div>\n",
       "<style>\n",
       "    .dataframe thead tr:only-child th {\n",
       "        text-align: right;\n",
       "    }\n",
       "\n",
       "    .dataframe thead th {\n",
       "        text-align: left;\n",
       "    }\n",
       "\n",
       "    .dataframe tbody tr th {\n",
       "        vertical-align: top;\n",
       "    }\n",
       "</style>\n",
       "<table border=\"1\" class=\"dataframe\">\n",
       "  <thead>\n",
       "    <tr style=\"text-align: right;\">\n",
       "      <th></th>\n",
       "      <th>0</th>\n",
       "    </tr>\n",
       "  </thead>\n",
       "  <tbody>\n",
       "    <tr>\n",
       "      <th>0</th>\n",
       "      <td>做为一本声名在外的流行书，说的还是广州的外企，按道理应该和我的生存环境差不多啊。但是一看之下...</td>\n",
       "    </tr>\n",
       "    <tr>\n",
       "      <th>1</th>\n",
       "      <td>作者有明显的自恋倾向，只有有老公养不上班的太太们才能像她那样生活。很多方法都不实用，还有抄袭...</td>\n",
       "    </tr>\n",
       "    <tr>\n",
       "      <th>2</th>\n",
       "      <td>作者完全是以一个过来的自认为是成功者的角度去写这个问题，感觉很不客观。虽然不是很喜欢，但是，...</td>\n",
       "    </tr>\n",
       "    <tr>\n",
       "      <th>3</th>\n",
       "      <td>作者提倡内调，不信任化妆品，这点赞同。但是所列举的方法太麻烦，配料也不好找。不是太实用。</td>\n",
       "    </tr>\n",
       "    <tr>\n",
       "      <th>4</th>\n",
       "      <td>作者的文笔一般，观点也是和市面上的同类书大同小异，不推荐读者购买。</td>\n",
       "    </tr>\n",
       "  </tbody>\n",
       "</table>\n",
       "</div>"
      ],
      "text/plain": [
       "                                                   0\n",
       "0  做为一本声名在外的流行书，说的还是广州的外企，按道理应该和我的生存环境差不多啊。但是一看之下...\n",
       "1  作者有明显的自恋倾向，只有有老公养不上班的太太们才能像她那样生活。很多方法都不实用，还有抄袭...\n",
       "2  作者完全是以一个过来的自认为是成功者的角度去写这个问题，感觉很不客观。虽然不是很喜欢，但是，...\n",
       "3       作者提倡内调，不信任化妆品，这点赞同。但是所列举的方法太麻烦，配料也不好找。不是太实用。\n",
       "4                  作者的文笔一般，观点也是和市面上的同类书大同小异，不推荐读者购买。"
      ]
     },
     "execution_count": 57,
     "metadata": {},
     "output_type": "execute_result"
    }
   ],
   "source": [
    "#查看数据结构\n",
    "neg=pd.read_excel('data/neg.xls',header=None,index=None)\n",
    "neg.head()"
   ]
  },
  {
   "cell_type": "markdown",
   "metadata": {},
   "source": [
    "### 载入数据，做预处理(分词)，切分训练集与测试集"
   ]
  },
  {
   "cell_type": "code",
   "execution_count": 4,
   "metadata": {},
   "outputs": [
    {
     "name": "stderr",
     "output_type": "stream",
     "text": [
      "Building prefix dict from the default dictionary ...\n",
      "Loading model from cache C:\\Users\\p186644\\AppData\\Local\\Temp\\jieba.cache\n",
      "Loading model cost 1.076 seconds.\n",
      "Prefix dict has been built succesfully.\n"
     ]
    },
    {
     "data": {
      "text/plain": [
       "0    [做, 为, 一本, 声名在外, 的, 流行, 书, ，, 说, 的, 还是, 广州, 的,...\n",
       "1    [作者, 有, 明显, 的, 自恋, 倾向, ，, 只有, 有, 老公, 养, 不, 上班,...\n",
       "2    [作者, 完全, 是, 以, 一个, 过来, 的, 自, 认为, 是, 成功者, 的, 角度...\n",
       "3    [作者, 提倡, 内, 调, ，, 不, 信任, 化妆品, ，, 这点, 赞同, 。, 但是...\n",
       "4    [作者, 的, 文笔, 一般, ，, 观点, 也, 是, 和, 市面上, 的, 同类, 书,...\n",
       "Name: 0, dtype: object"
      ]
     },
     "execution_count": 4,
     "metadata": {},
     "output_type": "execute_result"
    }
   ],
   "source": [
    "cw = lambda x: list(jieba.cut(x))\n",
    "neg[0].head().apply(cw)"
   ]
  },
  {
   "cell_type": "code",
   "execution_count": 5,
   "metadata": {
    "collapsed": true
   },
   "outputs": [],
   "source": [
    "def load_file_and_preprocessing():\n",
    "    neg=pd.read_excel('data/neg.xls',header=None,index=None)\n",
    "    pos=pd.read_excel('data/pos.xls',header=None,index=None)\n",
    "    \n",
    "    cw = lambda x: list(jieba.cut(x))\n",
    "    pos['words'] = pos[0].apply(cw)\n",
    "    neg['words'] = neg[0].apply(cw)\n",
    "    #创建label数组\n",
    "    y = np.concatenate((np.ones(len(pos)), np.zeros(len(neg))))\n",
    "    #利用train_test_split分割训练集和测试集,测试集的大小为0.2\n",
    "    x_train, x_test, y_train, y_test = train_test_split(np.concatenate((pos['words'], neg['words'])), y, test_size=0.2)\n",
    "    #保存矩阵\n",
    "    np.save('svm_data/y_train.npy',y_train)\n",
    "    np.save('svm_data/y_test.npy',y_test)\n",
    "    return x_train,x_test"
   ]
  },
  {
   "cell_type": "code",
   "execution_count": null,
   "metadata": {},
   "outputs": [],
   "source": []
  },
  {
   "cell_type": "markdown",
   "metadata": {},
   "source": [
    "### 对每个句子的所有词向量取均值，来生成一个句子的vector"
   ]
  },
  {
   "cell_type": "code",
   "execution_count": 6,
   "metadata": {
    "collapsed": true
   },
   "outputs": [],
   "source": [
    "#获得向量中所有词的向量平均值，imdb_w2v代表模型\n",
    "def build_sentence_vector(text, size,imdb_w2v):\n",
    "    vec = np.zeros(size).reshape((1, size))\n",
    "    count = 0.\n",
    "    for word in text:\n",
    "        try:\n",
    "            #获得词向量，并转换维度\n",
    "            vec += imdb_w2v[word].reshape((1, size))\n",
    "            count += 1.\n",
    "        except KeyError:\n",
    "            continue\n",
    "    if count != 0:\n",
    "        vec /= count\n",
    "    #返回一句话的所有词向量的和\n",
    "    return vec"
   ]
  },
  {
   "cell_type": "markdown",
   "metadata": {},
   "source": [
    "### 计算词向量"
   ]
  },
  {
   "cell_type": "code",
   "execution_count": 11,
   "metadata": {
    "collapsed": true
   },
   "outputs": [],
   "source": [
    "#计算词向量\n",
    "def get_train_vecs(x_train,x_test):\n",
    "    n_dim = 300\n",
    "    #初始化模型和词表\n",
    "    #Word2Vec建立空模型模型\n",
    "    imdb_w2v = Word2Vec(size=n_dim, min_count=10)\n",
    "    #将x_train导入模型\n",
    "    imdb_w2v.build_vocab(x_train)\n",
    "    \n",
    "    #在评论训练集上进行模型训练\n",
    "    imdb_w2v.train(x_train,total_examples=imdb_w2v.corpus_count,epochs=imdb_w2v.iter)\n",
    "    #,total_examples=x_train.shape[0]\n",
    "    #生成所有训练句子的词向量\n",
    "    train_vecs = np.concatenate([build_sentence_vector(z, n_dim,imdb_w2v) for z in x_train])\n",
    "    #将生成的训练向量保存\n",
    "    np.save('svm_data/train_vecs.npy',train_vecs)\n",
    "    print(train_vecs.shape)\n",
    "    #在测试集上训练\n",
    "    imdb_w2v.train(x_test,total_examples=1,epochs=1)\n",
    "    #,total_examples=x_test.shape[0]\n",
    "    #保存模型\n",
    "    imdb_w2v.save('svm_data/w2v_model/w2v_model.pkl')\n",
    "    #将测试集中的数据生成测试向量\n",
    "    test_vecs = np.concatenate([build_sentence_vector(z, n_dim,imdb_w2v) for z in x_test])\n",
    "    np.save('svm_data/test_vecs.npy',test_vecs)\n",
    "    print(test_vecs.shape)"
   ]
  },
  {
   "cell_type": "code",
   "execution_count": 8,
   "metadata": {
    "collapsed": true
   },
   "outputs": [],
   "source": [
    "x_train,x_test = load_file_and_preprocessing()\n"
   ]
  },
  {
   "cell_type": "code",
   "execution_count": 9,
   "metadata": {},
   "outputs": [
    {
     "data": {
      "text/plain": [
       "16884"
      ]
     },
     "execution_count": 9,
     "metadata": {},
     "output_type": "execute_result"
    }
   ],
   "source": [
    "x_train.shape[0]"
   ]
  },
  {
   "cell_type": "code",
   "execution_count": 12,
   "metadata": {},
   "outputs": [
    {
     "name": "stdout",
     "output_type": "stream",
     "text": [
      "(16884, 300)\n",
      "(4221, 300)\n"
     ]
    }
   ],
   "source": [
    "get_train_vecs(x_train,x_test)"
   ]
  },
  {
   "cell_type": "code",
   "execution_count": null,
   "metadata": {
    "collapsed": true
   },
   "outputs": [],
   "source": []
  },
  {
   "cell_type": "code",
   "execution_count": 13,
   "metadata": {
    "collapsed": true
   },
   "outputs": [],
   "source": [
    "def get_data():\n",
    "    #加载之前保存的向量数据\n",
    "    #训练向量\n",
    "    train_vecs=np.load('svm_data/train_vecs.npy')\n",
    "    #训练label\n",
    "    y_train=np.load('svm_data/y_train.npy')\n",
    "    #测试向量\n",
    "    test_vecs=np.load('svm_data/test_vecs.npy')\n",
    "    #测试label\n",
    "    y_test=np.load('svm_data/y_test.npy') \n",
    "    return train_vecs,y_train,test_vecs,y_test"
   ]
  },
  {
   "cell_type": "markdown",
   "metadata": {},
   "source": [
    "### 训练svm模型"
   ]
  },
  {
   "cell_type": "code",
   "execution_count": 14,
   "metadata": {
    "collapsed": true
   },
   "outputs": [],
   "source": [
    "def svm_train(train_vecs,y_train,test_vecs,y_test):\n",
    "    #使用SKLEARN的模型训练\n",
    "    clf=SVC(kernel='rbf',verbose=True)\n",
    "    clf.fit(train_vecs,y_train)\n",
    "    joblib.dump(clf, 'svm_data/svm_model/model.pkl')\n",
    "    #显示在测试集的准确率\n",
    "    print(clf.score(test_vecs,y_test))"
   ]
  },
  {
   "cell_type": "code",
   "execution_count": 15,
   "metadata": {},
   "outputs": [
    {
     "name": "stdout",
     "output_type": "stream",
     "text": [
      "[LibSVM]0.795782989813\n"
     ]
    }
   ],
   "source": [
    "train_vecs,y_train,test_vecs,y_test = get_data()\n",
    "svm_train(train_vecs,y_train,test_vecs,y_test)"
   ]
  },
  {
   "cell_type": "code",
   "execution_count": null,
   "metadata": {
    "collapsed": true
   },
   "outputs": [],
   "source": [
    "def forest_train(train_vecs,y_train,test_vecs,y_test):\n",
    "    from sklearn.ensemble import RandomForestClassifier\n",
    "    forest=RandomForestClassifier(n_estimators=100,max_depth=2,random_state=0)\n",
    "    forest.fit(train_vecs,y_train)\n",
    "    joblib.dump(forest, 'svm_data/svm_model/model_forest.pkl')\n",
    "    #显示在测试集的准确率\n",
    "    print('RandomForestClassifier acc',forest.score(test_vecs,y_test))\n",
    "forest_train(train_vecs,y_train,test_vecs,y_test)"
   ]
  },
  {
   "cell_type": "code",
   "execution_count": 42,
   "metadata": {},
   "outputs": [
    {
     "name": "stdout",
     "output_type": "stream",
     "text": [
      " GradientBoostingClassifier acc 0.820658611703\n"
     ]
    }
   ],
   "source": [
    "def grad_train(train_vecs,y_train,test_vecs,y_test):\n",
    "    from sklearn.ensemble import GradientBoostingClassifier\n",
    "    grad=GradientBoostingClassifier()\n",
    "    grad.fit(train_vecs,y_train)\n",
    "    joblib.dump(grad, 'svm_data/svm_model/model_forest.pkl')\n",
    "    #显示在测试集的准确率\n",
    "    print(' GradientBoostingClassifier acc',grad.score(test_vecs,y_test))\n",
    "grad_train(train_vecs,y_train,test_vecs,y_test)\n"
   ]
  },
  {
   "cell_type": "code",
   "execution_count": 44,
   "metadata": {
    "collapsed": true
   },
   "outputs": [],
   "source": [
    "from sklearn.ensemble import RandomForestClassifier, AdaBoostClassifier,GradientBoostingClassifier, ExtraTreesClassifier, VotingClassifier\n",
    "from sklearn.discriminant_analysis import LinearDiscriminantAnalysis\n",
    "from sklearn.linear_model import LogisticRegression\n",
    "from sklearn.neighbors import KNeighborsClassifier\n",
    "from sklearn.tree import DecisionTreeClassifier\n",
    "from sklearn.neural_network import MLPClassifier\n",
    "from sklearn.svm import SVC\n",
    "from sklearn.model_selection import GridSearchCV, cross_val_score, StratifiedKFold,learning_curve"
   ]
  },
  {
   "cell_type": "code",
   "execution_count": 47,
   "metadata": {},
   "outputs": [],
   "source": [
    "kfold = StratifiedKFold(n_splits=10)\n",
    "random_state = 2 #随机种子"
   ]
  },
  {
   "cell_type": "code",
   "execution_count": 48,
   "metadata": {},
   "outputs": [],
   "source": [
    "train_x=train_vecs\n",
    "train_y=y_train\n",
    "#将分类器添加进队列中\n",
    "classifiers = []\n",
    "classifiers.append(SVC(random_state=random_state))\n",
    "classifiers.append(DecisionTreeClassifier(random_state=random_state))\n",
    "classifiers.append(AdaBoostClassifier(DecisionTreeClassifier\n",
    "          (random_state=random_state),random_state=random_state,learning_rate=0.1))\n",
    "classifiers.append(RandomForestClassifier(random_state=random_state))\n",
    "classifiers.append(ExtraTreesClassifier(random_state=random_state))\n",
    "classifiers.append(GradientBoostingClassifier(random_state=random_state))\n",
    "classifiers.append(MLPClassifier(random_state=random_state))\n",
    "classifiers.append(KNeighborsClassifier())\n",
    "classifiers.append(LogisticRegression(random_state = random_state))\n",
    "classifiers.append(LinearDiscriminantAnalysis())"
   ]
  },
  {
   "cell_type": "code",
   "execution_count": 50,
   "metadata": {},
   "outputs": [],
   "source": [
    "#将结果添加到cv_results中\n",
    "cv_results = []\n",
    "for classifier in classifiers :\n",
    "    cv_results.append(cross_val_score(classifier,train_x, y = train_y,scoring = \"accuracy\", cv = kfold, n_jobs=4))"
   ]
  },
  {
   "cell_type": "code",
   "execution_count": 51,
   "metadata": {
    "collapsed": true
   },
   "outputs": [],
   "source": [
    "cv_means=[]\n",
    "cv_std=[]\n",
    "#准确率的平均值和方差\n",
    "for cv_result in cv_results:\n",
    "    cv_means.append(np.mean(cv_result))\n",
    "    cv_std.append(np.std(cv_result))\n",
    "#显示整体结果\n",
    "cv_res = pd.DataFrame({\"CrossValMeans\":cv_means,\"CrossValerrors\": cv_std,\n",
    "                            \"Algorithm\":[\"SVC\",\"DecisionTree\",\"AdaBoost\",\n",
    "         \"RandomForest\",\"ExtraTrees\",\"GradientBoosting\",\"MultipleLayerPerceptron\",\n",
    "         \"KNeighboors\",\"LogisticRegression\",\"LinearDiscriminantAnalysis\"]})"
   ]
  },
  {
   "cell_type": "code",
   "execution_count": 53,
   "metadata": {},
   "outputs": [
    {
     "data": {
      "image/png": "[encoded data removed]",
      "text/plain": [
       "<matplotlib.figure.Figure at 0x2260fd0>"
      ]
     },
     "metadata": {},
     "output_type": "display_data"
    }
   ],
   "source": [
    "import seaborn as sns\n",
    "import matplotlib.pyplot as plt\n",
    "#打印各个算法的结果和方差\n",
    "g=sns.barplot('CrossValMeans','Algorithm',data=cv_res,palette='Set3',orient = \"h\",**{'xerr':cv_std})\n",
    "g.set_xlabel('mean')\n",
    "g=g.set_title('cross validation scores')\n",
    "plt.show()"
   ]
  },
  {
   "cell_type": "code",
   "execution_count": 56,
   "metadata": {},
   "outputs": [
    {
     "name": "stdout",
     "output_type": "stream",
     "text": [
      " GradientBoostingClassifier acc 0.793887704335\n"
     ]
    }
   ],
   "source": [
    "def ada_train(train_vecs,y_train,test_vecs,y_test):\n",
    "    from sklearn.ensemble import AdaBoostClassifier\n",
    "    ada=AdaBoostClassifier()\n",
    "    ada.fit(train_vecs,y_train)\n",
    "    joblib.dump(ada, 'svm_data/svm_model/model_ada.pkl')\n",
    "    #显示在测试集的准确率\n",
    "    print(' GradientBoostingClassifier acc',ada.score(test_vecs,y_test))\n",
    "ada_train(train_vecs,y_train,test_vecs,y_test)"
   ]
  },
  {
   "cell_type": "code",
   "execution_count": 16,
   "metadata": {
    "collapsed": true
   },
   "outputs": [],
   "source": [
    "#在输入数据进行训练时需要先将其转换为向量\n",
    "def get_predict_vecs(words):\n",
    "    n_dim = 300\n",
    "    #加载模型\n",
    "    imdb_w2v = Word2Vec.load('svm_data/w2v_model/w2v_model.pkl')\n",
    "    #imdb_w2v.train(words)\n",
    "    train_vecs = build_sentence_vector(words, n_dim,imdb_w2v)\n",
    "    return train_vecs"
   ]
  },
  {
   "cell_type": "markdown",
   "metadata": {},
   "source": [
    "### 对单个句子进行情感判断 "
   ]
  },
  {
   "cell_type": "code",
   "execution_count": 58,
   "metadata": {
    "collapsed": true
   },
   "outputs": [],
   "source": [
    "#使用sklearn进行预测\n",
    "def svm_predict(string):\n",
    "    words=jieba.lcut(string)\n",
    "    words_vecs=get_predict_vecs(words)\n",
    "    clf=joblib.load('svm_data/svm_model/model.pkl')\n",
    "     \n",
    "    result=clf.predict(words_vecs)\n",
    "    \n",
    "    if int(result[0])==1:\n",
    "        print (string,' positive')\n",
    "    else:\n",
    "        print (string,' negative')"
   ]
  },
  {
   "cell_type": "code",
   "execution_count": 59,
   "metadata": {
    "collapsed": true
   },
   "outputs": [],
   "source": [
    "#使用sklearn进行预测\n",
    "def forest_predict(string):\n",
    "    words=jieba.lcut(string)\n",
    "    words_vecs=get_predict_vecs(words)\n",
    "    clf=joblib.load('svm_data/svm_model/model_forest.pkl')\n",
    "     \n",
    "    result=clf.predict(words_vecs)\n",
    "    \n",
    "    if int(result[0])==1:\n",
    "        print (string,' positive')\n",
    "    else:\n",
    "        print (string,' negative')"
   ]
  },
  {
   "cell_type": "code",
   "execution_count": 62,
   "metadata": {
    "collapsed": true
   },
   "outputs": [],
   "source": [
    "#使用sklearn进行预测\n",
    "def ada_predict(string):\n",
    "    words=jieba.lcut(string)\n",
    "    words_vecs=get_predict_vecs(words)\n",
    "    clf=joblib.load('svm_data/svm_model/model_ada.pkl')\n",
    "     \n",
    "    result=clf.predict(words_vecs)\n",
    "    \n",
    "    if int(result[0])==1:\n",
    "        print (string,' positive')\n",
    "    else:\n",
    "        print (string,' negative')"
   ]
  },
  {
   "cell_type": "code",
   "execution_count": 63,
   "metadata": {},
   "outputs": [
    {
     "name": "stdout",
     "output_type": "stream",
     "text": [
      "质量还可以  positive\n",
      "svm_predict \n",
      " None\n",
      "质量还可以  positive\n",
      "ada_predict \n",
      " None\n",
      "质量还可以  positive\n",
      "forest_predict \n",
      " None\n",
      "用的很满意  positive\n",
      "svm_predict \n",
      " None\n",
      "用的很满意  positive\n",
      "ada_predict \n",
      " None\n",
      "用的很满意  positive\n",
      "forest_predict \n",
      " None\n",
      "缺点很多  negative\n",
      "svm_predict \n",
      " None\n",
      "缺点很多  negative\n",
      "ada_predict \n",
      " None\n",
      "缺点很多  negative\n",
      "forest_predict \n",
      " None\n",
      "用起来非常好，没有缺点  positive\n",
      "svm_predict \n",
      " None\n",
      "用起来非常好，没有缺点  positive\n",
      "ada_predict \n",
      " None\n",
      "用起来非常好，没有缺点  positive\n",
      "forest_predict \n",
      " None\n"
     ]
    }
   ],
   "source": [
    "##对输入句子情感进行判断\n",
    "strings=['质量还可以','用的很满意','缺点很多','用起来非常好，没有缺点']\n",
    "for string in strings:\n",
    "    print('svm_predict \\n',svm_predict(string))\n",
    "    print('ada_predict \\n',ada_predict(string))\n",
    "    print('forest_predict \\n',forest_predict(string))"
   ]
  },
  {
   "cell_type": "code",
   "execution_count": 89,
   "metadata": {},
   "outputs": [
    {
     "name": "stdout",
     "output_type": "stream",
     "text": [
      "6\n"
     ]
    }
   ],
   "source": [
    "#数字在排序数组中出现的次数\n",
    "def get_first_k(arr,start,end,num):\n",
    "\t#二分查找，\n",
    "\tif start > end:\n",
    "\t\treturn -1\n",
    "\tmidIndex = (start+end)//2\n",
    "\tif arr[midIndex] > num:\n",
    "\t\tend = midIndex-1\n",
    "\t\t#get_first_k(arr,start,midIndex-1,num)\n",
    "\telif arr[midIndex] < num:\n",
    "\t\tstart = midIndex+1\n",
    "\t\t#get_first_k(arr,midIndex+1,end,num)\n",
    "\telse:\n",
    "\t\tif midIndex == 0:\n",
    "\t\t\treturn 0\n",
    "\t\telif arr[midIndex-1] == num:\n",
    "\t\t\tend = midIndex\n",
    "\t\t\t#get_first_k(arr,start,midIndex,num)\n",
    "\t\telse:\n",
    "\t\t\treturn midIndex-1\n",
    "\treturn get_first_k(arr,start,end,num)\n",
    "#def get_last_k(arr,start,end,num):\n",
    "arr = [1,4,5,6,6,6,6,8,9,11]\n",
    "print(get_first_k(arr,0,len(arr)-1,num=8))"
   ]
  },
  {
   "cell_type": "code",
   "execution_count": null,
   "metadata": {
    "collapsed": true
   },
   "outputs": [],
   "source": []
  }
 ],
 "metadata": {
  "kernelspec": {
   "display_name": "Python 3",
   "language": "python",
   "name": "python3"
  },
  "language_info": {
   "codemirror_mode": {
    "name": "ipython",
    "version": 3
   },
   "file_extension": ".py",
   "mimetype": "text/x-python",
   "name": "python",
   "nbconvert_exporter": "python",
   "pygments_lexer": "ipython3",
   "version": "3.6.2"
  }
 },
 "nbformat": 4,
 "nbformat_minor": 1
}
